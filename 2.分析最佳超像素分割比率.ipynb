{
 "cells": [
  {
   "cell_type": "code",
   "execution_count": 1,
   "id": "94d79487",
   "metadata": {},
   "outputs": [],
   "source": [
    "import pandas as pd\n",
    "import numpy as np\n",
    "import ast\n",
    "import skimage.io as io\n",
    "from skimage import color, measure\n",
    "from skimage.transform import resize\n",
    "from skimage.measure import regionprops_table\n",
    "from skimage.segmentation import felzenszwalb\n",
    "from kneed import KneeLocator # 用于拐点分析\n",
    "import matplotlib.pyplot as plt "
   ]
  },
  {
   "cell_type": "code",
   "execution_count": 2,
   "id": "bfaab779",
   "metadata": {},
   "outputs": [],
   "source": [
    "# 函数6：将给定的颜色图添加至灰度图\n",
    "def gray2color(gray_array, color_map):  \n",
    "    '''Apply color map to the gray image.'''\n",
    "    maxi = gray_array.max()\n",
    "    mini = gray_array.min()\n",
    "    gray_rescale = np.int_(gray_image * \n",
    "                           np.ones(gray_image.shape) / maxi * 255)\n",
    "    rows, cols = gray_array.shape\n",
    "    color_array = np.zeros((rows, cols, 3), np.uint8) \n",
    "\n",
    "    for i in range(0, rows):\n",
    "        for j in range(0, cols):\n",
    "            color_array[i, j] = color_map[gray_rescale[i, j]]  \n",
    "    return color_array"
   ]
  },
  {
   "cell_type": "code",
   "execution_count": 3,
   "id": "fc12b22f",
   "metadata": {},
   "outputs": [],
   "source": [
    "# 加载深度学习穗粒分类模型\n",
    "from __future__ import print_function, division\n",
    "\n",
    "import torch\n",
    "import torch.nn as nn\n",
    "import torch.nn.functional as F\n",
    "import torch.optim as optim\n",
    "from torchvision import datasets, transforms\n",
    "from torch.autograd import Variable\n",
    "import numpy as np\n",
    "from torchvision import models\n",
    "\n",
    "import torchvision\n",
    "import torchvision.models as models\n",
    "import torch.nn as nn\n",
    "from PIL import Image\n",
    "model = torchvision.models.vgg16(pretrained=False)\n",
    "model.classifier._modules['6'] = nn.Linear(4096, 3)\n",
    "model.load_state_dict(torch.load(r'./Data/model_weights.pth'))\n",
    "model.cuda()\n",
    "model.eval()\n",
    "\n",
    "tran = transforms.Compose([\n",
    "    transforms.Resize((64,64)),\n",
    "    transforms.ToTensor()\n",
    "])"
   ]
  },
  {
   "cell_type": "code",
   "execution_count": 4,
   "id": "d6427f07",
   "metadata": {},
   "outputs": [],
   "source": [
    "datacube_1 = pd.read_csv(r'./Data/datacubes/datacube_1.csv', index_col=0)"
   ]
  },
  {
   "cell_type": "code",
   "execution_count": 5,
   "id": "ae916896",
   "metadata": {},
   "outputs": [],
   "source": [
    "# 读取原始图像\n",
    "img_path = r'./Data/images/室内采集图像.JPG'\n",
    "# img_path = r'./Data/images/手机采集图像.JPG'\n",
    "source_img = io.imread(img_path)\n",
    "# 从多维数据集中读取图像\n",
    "image_resized = np.array(ast.literal_eval(datacube_1.at[0, 'image_resized']))\n",
    "matched = np.array(ast.literal_eval(datacube_1.at[0, 'matched']))\n",
    "Final_Spike_ROI_1 = np.array(ast.literal_eval(datacube_1.at[0, 'spike_mask']))"
   ]
  },
  {
   "cell_type": "code",
   "execution_count": 6,
   "id": "55c72fb4",
   "metadata": {},
   "outputs": [
    {
     "name": "stderr",
     "output_type": "stream",
     "text": [
      "C:\\Users\\win\\AppData\\Local\\Temp/ipykernel_8248/519596690.py:4: DeprecationWarning: `np.float` is a deprecated alias for the builtin `float`. To silence this warning, use `float` by itself. Doing this will not modify any behavior and is safe. If you specifically wanted the numpy scalar type, use `np.float64` here.\n",
      "Deprecated in NumPy 1.20; for more details and guidance: https://numpy.org/devdocs/release/1.20.0-notes.html#deprecations\n",
      "  colormap_float = np.zeros((256, 3), np.float)\n"
     ]
    }
   ],
   "source": [
    "# 提取jet颜色图数据\n",
    "from matplotlib import cm \n",
    "colormap_int = np.zeros((256, 3), np.uint8)\n",
    "colormap_float = np.zeros((256, 3), np.float) \n",
    "\n",
    "for i in range(0, 256, 1):\n",
    "    colormap_float[i, 0] = cm.jet(i)[0]\n",
    "    colormap_float[i, 1] = cm.jet(i)[1]\n",
    "    colormap_float[i, 2] = cm.jet(i)[2] \n",
    "        \n",
    "    colormap_int[i, 0] = np.int_(np.round(cm.jet(i)[0] * 255.0))\n",
    "    colormap_int[i, 1] = np.int_(np.round(cm.jet(i)[1] * 255.0))\n",
    "    colormap_int[i, 2] = np.int_(np.round(cm.jet(i)[2] * 255.0)) "
   ]
  },
  {
   "cell_type": "code",
   "execution_count": 7,
   "id": "ce68e39c",
   "metadata": {},
   "outputs": [],
   "source": [
    "# 提取穗粒区域灰度图并添加伪色\n",
    "gray_image = image_resized[:,:,0] * Final_Spike_ROI_1\n",
    "color_image = gray2color(gray_image, colormap_int)"
   ]
  },
  {
   "cell_type": "code",
   "execution_count": 8,
   "id": "3a52c9fe",
   "metadata": {},
   "outputs": [],
   "source": [
    "# 结合超像素分割和深度学习分类，分析分割比率\n",
    "num_dt = pd.DataFrame(columns=['No', 'intact_num'])\n",
    "ratio_list = range(200,1500,100)\n",
    "for n, ratio in enumerate(ratio_list):\n",
    "    segments_fz = felzenszwalb(color_image, scale=10, sigma=0.05, min_size=int(np.sum(Final_Spike_ROI_1 > 0)/ratio))\n",
    "    grain_props = measure.regionprops_table(segments_fz, color.rgb2gray(image_resized), \n",
    "                                            properties=['label', 'bbox', 'major_axis_length', 'minor_axis_length', 'area',  \n",
    "                                                       'extent', 'solidity', 'image', 'intensity_image'], cache=True)\n",
    "    grain_data = pd.DataFrame(grain_props)\n",
    "    for i in (grain_data.index):\n",
    "        min_row = grain_data.loc[i,'bbox-0']\n",
    "        min_col = grain_data.loc[i,'bbox-1']\n",
    "        max_row = grain_data.loc[i,'bbox-2']\n",
    "        max_col = grain_data.loc[i,'bbox-3']\n",
    "\n",
    "        min_row_b = int(grain_data.loc[i,'bbox-0'] / image_resized.shape[0] * source_img.shape[0])\n",
    "        min_col_b = int(grain_data.loc[i,'bbox-1'] / image_resized.shape[1] * source_img.shape[1])\n",
    "        max_row_b = int(grain_data.loc[i,'bbox-2'] / image_resized.shape[0] * source_img.shape[0])\n",
    "        max_col_b = int(grain_data.loc[i,'bbox-3'] / image_resized.shape[1] * source_img.shape[1])\n",
    "\n",
    "        mask_b = resize(grain_data.loc[i,'image'], (max_row_b - min_row_b, max_col_b - min_col_b))\n",
    "        big_grain = (color.gray2rgb(mask_b)*source_img[min_row_b:max_row_b, min_col_b: max_col_b]).astype('int') # 原始大图中穗粒\n",
    "        big_grain = Image.fromarray(big_grain.astype('uint8'), mode='RGB')\n",
    "        big_grain = tran(big_grain).cuda()\n",
    "        big_grain.unsqueeze_(dim=0)\n",
    "\n",
    "        out = model(big_grain)\n",
    "        pred = torch.max(out, 1)[1][0].item()\n",
    "        grain_data.at[i, 'pred'] = pred\n",
    "    intact_grain = grain_data[grain_data['pred'] == 1]\n",
    "    intact_grain.reset_index(drop=True, inplace=True)\n",
    "    num_dt.at[n, 'No'] = n\n",
    "    num_dt.at[n, 'intact_num'] = len(intact_grain) if len(intact_grain)!=0 else len(intact_grain)+1\n",
    "    num_dt.at[n, 'ratio'] = ratio\n",
    "\n",
    "for i in num_dt.index[1:]:\n",
    "    num_dt.at[i, 'incre'] = (num_dt.at[i, 'intact_num'] -  num_dt.at[i-1, 'intact_num']) / num_dt.at[i-1, 'intact_num']\n",
    "\n",
    "kneedle_cov_dec = KneeLocator(num_dt['No'].astype('int')[1:], \n",
    "                      num_dt['incre'][1:], \n",
    "                      curve='convex', \n",
    "                      direction='decreasing',\n",
    "                      online=True)\n",
    "kneedle_cov_inc = KneeLocator(num_dt['No'].astype('int')[1:], \n",
    "                      num_dt['incre'][1:], \n",
    "                      curve='convex', \n",
    "                      direction='increasing',\n",
    "                      online=True)\n",
    "\n",
    "if num_dt.at[kneedle_cov_dec.knee, 'ratio'] < num_dt.at[kneedle_cov_inc.knee, 'ratio']:\n",
    "    best_ratio = num_dt.at[kneedle_cov_dec.knee, 'ratio']\n",
    "else:\n",
    "    best_ratio = num_dt.at[kneedle_cov_inc.knee, 'ratio']"
   ]
  },
  {
   "cell_type": "code",
   "execution_count": 9,
   "id": "2223e9dc",
   "metadata": {},
   "outputs": [
    {
     "data": {
      "text/plain": [
       "Text(0, 0.5, '完整粒数量随min_size参数变化的相对增长率')"
      ]
     },
     "execution_count": 9,
     "metadata": {},
     "output_type": "execute_result"
    },
    {
     "data": {
      "image/png": "[encoded data removed]",
      "text/plain": [
       "<Figure size 432x432 with 1 Axes>"
      ]
     },
     "metadata": {
      "needs_background": "light"
     },
     "output_type": "display_data"
    }
   ],
   "source": [
    "plt.rcParams['font.sans-serif'] = ['SimHei'] # 步骤一（替换sans-serif字体）\n",
    "plt.rcParams['axes.unicode_minus'] = False   # 步骤二（解决坐标轴负数的负号显示问题）\n",
    "plt.figure(figsize=(6,6))\n",
    "plt.plot(num_dt['ratio'], num_dt['incre'])\n",
    "plt.plot(num_dt.at[kneedle_cov_dec.knee, 'ratio'], kneedle_cov_dec.knee_y, 'ro', label = '单穗粒数变化率拐点')\n",
    "plt.legend()\n",
    "plt.xlabel('超像素min_size参数比率', fontsize=17)\n",
    "plt.ylabel('完整粒数量随min_size参数变化的相对增长率', fontsize=17)"
   ]
  },
  {
   "cell_type": "code",
   "execution_count": 10,
   "id": "9c96271b",
   "metadata": {},
   "outputs": [],
   "source": [
    "# 将最佳分割比率存放入多维数据集\n",
    "datacube_1.loc[0, 'best_ratio'] = best_ratio\n",
    "datacube_1.to_csv(r'./Data/datacubes/datacube_1.csv')"
   ]
  }
 ],
 "metadata": {
  "kernelspec": {
   "display_name": "Python 3 (ipykernel)",
   "language": "python",
   "name": "python3"
  },
  "language_info": {
   "codemirror_mode": {
    "name": "ipython",
    "version": 3
   },
   "file_extension": ".py",
   "mimetype": "text/x-python",
   "name": "python",
   "nbconvert_exporter": "python",
   "pygments_lexer": "ipython3",
   "version": "3.8.11"
  }
 },
 "nbformat": 4,
 "nbformat_minor": 5
}
