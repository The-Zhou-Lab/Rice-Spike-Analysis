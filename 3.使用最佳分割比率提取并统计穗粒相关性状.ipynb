{
 "cells": [
  {
   "cell_type": "code",
   "execution_count": 1,
   "id": "5205810d",
   "metadata": {},
   "outputs": [],
   "source": [
    "import pandas as pd\n",
    "import numpy as np\n",
    "import ast\n",
    "import skimage.io as io\n",
    "from skimage import color, measure\n",
    "from skimage.morphology import erosion, dilation, opening, closing, remove_small_holes, disk\n",
    "from skimage.transform import resize\n",
    "from skimage.measure import regionprops_table, regionprops, label\n",
    "from skimage.segmentation import felzenszwalb\n",
    "from skimage.exposure import match_histograms\n",
    "import matplotlib.pyplot as plt \n",
    "import matplotlib.patches as mpatches\n",
    "from skimage.segmentation import mark_boundaries"
   ]
  },
  {
   "cell_type": "code",
   "execution_count": 2,
   "id": "c5f74653",
   "metadata": {},
   "outputs": [],
   "source": [
    "# 函数6：将给定的颜色图添加至灰度图\n",
    "def gray2color(gray_array, color_map):  \n",
    "    '''Apply color map to the gray image.'''\n",
    "    maxi = gray_array.max()\n",
    "    mini = gray_array.min()\n",
    "    gray_rescale = np.int_(gray_image * \n",
    "                           np.ones(gray_image.shape) / maxi * 255)\n",
    "    rows, cols = gray_array.shape\n",
    "    color_array = np.zeros((rows, cols, 3), np.uint8) \n",
    "\n",
    "    for i in range(0, rows):\n",
    "        for j in range(0, cols):\n",
    "            color_array[i, j] = color_map[gray_rescale[i, j]]  \n",
    "\n",
    "    #color_image = Image.fromarray(color_array)\n",
    "    return color_array"
   ]
  },
  {
   "cell_type": "code",
   "execution_count": 3,
   "id": "13351d75",
   "metadata": {},
   "outputs": [],
   "source": [
    "# 函数7：测量穗粒对象的长度\n",
    "def length(regionmask):\n",
    "    # 加黑边\n",
    "    r, c = regionmask.shape[0], regionmask.shape[1]\n",
    "    img_dia = np.zeros((r+2, c+2))\n",
    "    img_dia[1:r+1, 1:c+1] = regionmask\n",
    "    \n",
    "    regions = regionprops(label(img_dia))\n",
    "    centroid = regions[0].centroid\n",
    "    \n",
    "#     # 穗粒图像腐蚀一个像素\n",
    "#     img_dia = erosion(img_dia, disk(1))\n",
    "    \n",
    "    img_ero = erosion(img_dia, disk(1))\n",
    "    img_edge = np.logical_xor(img_ero, img_dia)\n",
    "    edge_points = np.argwhere(img_edge == True)\n",
    "    dist_tmp = [np.power(x,2) + np.power(y,2) for x,y in edge_points - centroid]\n",
    "    end_pt_1 = edge_points[np.argmax(dist_tmp)]\n",
    "    dist_tmp = [np.power(x,2) + np.power(y,2) for x,y in edge_points - end_pt_1]\n",
    "    end_pt_2 = edge_points[np.argmax(dist_tmp)]\n",
    "    long_axis_length_1 = np.linalg.norm(end_pt_1 - end_pt_2)\n",
    "    \n",
    "    img_big = dilation(img_dia, disk(1))\n",
    "    big_edge = np.logical_xor(img_big, img_dia)\n",
    "    edge_points = np.argwhere(big_edge == True)\n",
    "    dist_tmp = [np.power(x,2) + np.power(y,2) for x,y in edge_points - centroid]\n",
    "    end_pt_1 = edge_points[np.argmax(dist_tmp)]\n",
    "    dist_tmp = [np.power(x,2) + np.power(y,2) for x,y in edge_points - end_pt_1]\n",
    "    end_pt_2 = edge_points[np.argmax(dist_tmp)]\n",
    "    long_axis_length_2 = np.linalg.norm(end_pt_1 - end_pt_2)\n",
    "    \n",
    "    return (long_axis_length_1 + long_axis_length_2)/2"
   ]
  },
  {
   "cell_type": "code",
   "execution_count": 4,
   "id": "2b841230",
   "metadata": {},
   "outputs": [],
   "source": [
    "# 函数8：自定义取整函数\n",
    "def round_new(num, threshold=4):\n",
    "    decimal_n = (num*10)%10\n",
    "    if decimal_n >= threshold:\n",
    "        result = np.floor((num)%10 + 1)\n",
    "    else:\n",
    "        result = np.floor(num)\n",
    "    return result"
   ]
  },
  {
   "cell_type": "code",
   "execution_count": 5,
   "id": "4ebb15ef",
   "metadata": {},
   "outputs": [],
   "source": [
    "# 加载深度学习穗粒分类模型\n",
    "from __future__ import print_function, division\n",
    "\n",
    "import torch\n",
    "import torch.nn as nn\n",
    "import torch.nn.functional as F\n",
    "import torch.optim as optim\n",
    "from torchvision import datasets, transforms\n",
    "from torch.autograd import Variable\n",
    "import numpy as np\n",
    "from torchvision import models\n",
    "\n",
    "import torchvision\n",
    "import torchvision.models as models\n",
    "import torch.nn as nn\n",
    "from PIL import Image\n",
    "model = torchvision.models.vgg16(pretrained=False)\n",
    "model.classifier._modules['6'] = nn.Linear(4096, 3)\n",
    "model.load_state_dict(torch.load(r'./Data/model_weights.pth'))\n",
    "model.cuda()\n",
    "model.eval()\n",
    "# 模型输入标定\n",
    "tran = transforms.Compose([\n",
    "    transforms.Resize((64,64)),\n",
    "    transforms.ToTensor()\n",
    "])"
   ]
  },
  {
   "cell_type": "code",
   "execution_count": 6,
   "id": "81d26741",
   "metadata": {},
   "outputs": [
    {
     "name": "stderr",
     "output_type": "stream",
     "text": [
      "C:\\Users\\win\\AppData\\Local\\Temp/ipykernel_19420/519596690.py:4: DeprecationWarning: `np.float` is a deprecated alias for the builtin `float`. To silence this warning, use `float` by itself. Doing this will not modify any behavior and is safe. If you specifically wanted the numpy scalar type, use `np.float64` here.\n",
      "Deprecated in NumPy 1.20; for more details and guidance: https://numpy.org/devdocs/release/1.20.0-notes.html#deprecations\n",
      "  colormap_float = np.zeros((256, 3), np.float)\n"
     ]
    }
   ],
   "source": [
    "# 提取jet颜色图数据\n",
    "from matplotlib import cm \n",
    "colormap_int = np.zeros((256, 3), np.uint8)\n",
    "colormap_float = np.zeros((256, 3), np.float) \n",
    "\n",
    "for i in range(0, 256, 1):\n",
    "    colormap_float[i, 0] = cm.jet(i)[0]\n",
    "    colormap_float[i, 1] = cm.jet(i)[1]\n",
    "    colormap_float[i, 2] = cm.jet(i)[2] \n",
    "        \n",
    "    colormap_int[i, 0] = np.int_(np.round(cm.jet(i)[0] * 255.0))\n",
    "    colormap_int[i, 1] = np.int_(np.round(cm.jet(i)[1] * 255.0))\n",
    "    colormap_int[i, 2] = np.int_(np.round(cm.jet(i)[2] * 255.0)) "
   ]
  },
  {
   "cell_type": "code",
   "execution_count": 7,
   "id": "402ec3fc",
   "metadata": {},
   "outputs": [],
   "source": [
    "datacube_1 = pd.read_csv(r'./Data/datacubes/datacube_1.csv', index_col=0)"
   ]
  },
  {
   "cell_type": "code",
   "execution_count": 8,
   "id": "08a2c69a",
   "metadata": {},
   "outputs": [],
   "source": [
    "# 读取原始图像\n",
    "img_path = r'./Data/images/室内采集图像.JPG'\n",
    "# img_path = r'./Data/images/手机采集图像.JPG'\n",
    "reference_img_path = r'./Data/images/基准图像.JPG'\n",
    "source_img = io.imread(img_path)\n",
    "reference = io.imread(reference_img_path)\n",
    "# 从多维数据集中读取图像\n",
    "image_resized = np.array(ast.literal_eval(datacube_1.at[0, 'image_resized']))\n",
    "Final_Spike_ROI_1 = np.array(ast.literal_eval(datacube_1.at[0, 'spike_mask']))"
   ]
  },
  {
   "cell_type": "code",
   "execution_count": 9,
   "id": "733038c5",
   "metadata": {},
   "outputs": [],
   "source": [
    "# 读取最佳分割比率和像素→毫米的转换关系\n",
    "best_ratio = datacube_1.loc[0, 'best_ratio']\n",
    "pm_ratio = datacube_1.loc[0, 'pm_ratio']"
   ]
  },
  {
   "cell_type": "code",
   "execution_count": 10,
   "id": "92174df7",
   "metadata": {},
   "outputs": [],
   "source": [
    "# 超像素分割原始图像\n",
    "matched = match_histograms(source_img, reference, multichannel=True)\n",
    "gray_image = matched[:,:,0] * resize(Final_Spike_ROI_1, (source_img.shape[0], source_img.shape[1]))\n",
    "color_image = gray2color(gray_image, colormap_int)\n",
    "segments_fz = felzenszwalb(color_image, scale=10, sigma=0.05, min_size=int(np.sum(resize(Final_Spike_ROI_1, (source_img.shape[0], source_img.shape[1])) > 0)/best_ratio))\n",
    "grain_props = measure.regionprops_table(segments_fz, color.rgb2gray(source_img), \n",
    "                                        properties=['label', 'bbox', 'major_axis_length', 'minor_axis_length', 'area',  \n",
    "                                                   'extent', 'solidity', 'image', 'intensity_image', 'eccentricity',\n",
    "                                                    'perimeter_crofton'], extra_properties=(length,), \n",
    "                                        cache=True)\n",
    "grain_data = pd.DataFrame(grain_props)"
   ]
  },
  {
   "cell_type": "code",
   "execution_count": 11,
   "id": "eabfee09",
   "metadata": {},
   "outputs": [],
   "source": [
    "# 对超像素分割结果分类\n",
    "for i in (grain_data.index):\n",
    "    min_row = grain_data.loc[i,'bbox-0']\n",
    "    min_col = grain_data.loc[i,'bbox-1']\n",
    "    max_row = grain_data.loc[i,'bbox-2']\n",
    "    max_col = grain_data.loc[i,'bbox-3']\n",
    "    mask = grain_data.loc[i,'image']\n",
    "    big_grain = (color.gray2rgb(mask)*source_img[min_row:max_row, min_col: max_col]).astype('int')\n",
    "    big_grain = Image.fromarray(big_grain.astype('uint8'), mode='RGB')\n",
    "    big_grain = tran(big_grain).cuda()\n",
    "    big_grain.unsqueeze_(dim=0)\n",
    "    out = model(big_grain)\n",
    "    pred = torch.max(out, 1)[1][0].item()\n",
    "    grain_data.at[i, 'pred'] = pred"
   ]
  },
  {
   "cell_type": "code",
   "execution_count": 12,
   "id": "8b946347",
   "metadata": {},
   "outputs": [
    {
     "name": "stderr",
     "output_type": "stream",
     "text": [
      "C:\\Users\\win\\AppData\\Local\\Temp/ipykernel_19420/110952075.py:4: SettingWithCopyWarning: \n",
      "A value is trying to be set on a copy of a slice from a DataFrame.\n",
      "Try using .loc[row_indexer,col_indexer] = value instead\n",
      "\n",
      "See the caveats in the documentation: https://pandas.pydata.org/pandas-docs/stable/user_guide/indexing.html#returning-a-view-versus-a-copy\n",
      "  intact_grain['width'] = intact_grain['length'] / (intact_grain['major_axis_length'] / intact_grain['minor_axis_length'])# 粒宽\n",
      "C:\\Users\\win\\anaconda3\\envs\\skimage18\\lib\\site-packages\\pandas\\core\\indexing.py:1684: SettingWithCopyWarning: \n",
      "A value is trying to be set on a copy of a slice from a DataFrame.\n",
      "Try using .loc[row_indexer,col_indexer] = value instead\n",
      "\n",
      "See the caveats in the documentation: https://pandas.pydata.org/pandas-docs/stable/user_guide/indexing.html#returning-a-view-versus-a-copy\n",
      "  self.obj[key] = infer_fill_value(value)\n",
      "C:\\Users\\win\\anaconda3\\envs\\skimage18\\lib\\site-packages\\pandas\\core\\indexing.py:1817: SettingWithCopyWarning: \n",
      "A value is trying to be set on a copy of a slice from a DataFrame.\n",
      "Try using .loc[row_indexer,col_indexer] = value instead\n",
      "\n",
      "See the caveats in the documentation: https://pandas.pydata.org/pandas-docs/stable/user_guide/indexing.html#returning-a-view-versus-a-copy\n",
      "  self._setitem_single_column(loc, value, pi)\n"
     ]
    }
   ],
   "source": [
    "# 统计穗粒相关性状\n",
    "intact_grain = grain_data[grain_data['pred'] == 1]\n",
    "intact_grain.reset_index(drop=True, inplace=True)\n",
    "intact_grain['width'] = intact_grain['length'] / (intact_grain['major_axis_length'] / intact_grain['minor_axis_length'])# 粒宽\n",
    "# 估算穗粒数\n",
    "not_intact = grain_data[grain_data['pred'] == 0]\n",
    "num = 0\n",
    "for i in not_intact.index:\n",
    "    num = num + round_new(not_intact.at[i, 'area'] / intact_grain['area'].mean(), 3)\n",
    "intact_num = len(intact_grain)\n",
    "grain_num = num + intact_num\n",
    "# 长宽比均值\n",
    "len_wid_mean = (intact_grain['major_axis_length'] / intact_grain['minor_axis_length']).mean()\n",
    "# 长均值\n",
    "length_mean = intact_grain['length'].mean() * pm_ratio \n",
    "# 宽均值\n",
    "width_mean = intact_grain['width'].mean() * pm_ratio\n",
    "# 面积均值\n",
    "area_mean = intact_grain['area'].mean() * pow(pm_ratio,2)\n",
    "\n",
    "# 统计粒色性状\n",
    "img_exr = 1.4*matched[:,:,0] - matched[:,:,2] # 超红通道\n",
    "for i in intact_grain.index:\n",
    "    min_row = intact_grain.loc[i,'bbox-0']\n",
    "    min_col = intact_grain.loc[i,'bbox-1']\n",
    "    max_row = intact_grain.loc[i,'bbox-2']\n",
    "    max_col = intact_grain.loc[i,'bbox-3']\n",
    "    img_tmp_exr = img_exr[min_row:max_row, min_col:max_col] * intact_grain.at[i, 'image']\n",
    "    exr_mean = img_tmp_exr.sum() / intact_grain.at[i, 'image'].sum()\n",
    "    intact_grain.loc[i,'exr_mean'] = exr_mean\n",
    "exr_mean_mean = intact_grain.loc[i,'exr_mean'].mean()\n",
    "# 粒周长\n",
    "perimeter_mean = intact_grain['perimeter_crofton'].mean() * pm_ratio\n",
    "# 圆形度\n",
    "roundness_mean = (4*np.pi*area_mean) / pow(perimeter_mean, 2)"
   ]
  },
  {
   "cell_type": "code",
   "execution_count": 13,
   "id": "81e3e42a",
   "metadata": {},
   "outputs": [],
   "source": [
    "# 输出性状分析结果\n",
    "pandas_list = []\n",
    "pandas_list.append([grain_num, best_ratio, intact_num, area_mean, len_wid_mean, \n",
    "                   length_mean, width_mean, perimeter_mean, roundness_mean, exr_mean_mean, \n",
    "                   pm_ratio])\n",
    "result_dt = pd.DataFrame(pandas_list, columns=['穗粒数', '最佳分割比率', '单独穗粒数', \n",
    "                                              '粒面积均值', '长宽比均值', '粒长均值', \n",
    "                                               '粒宽均值', '粒周长均值', '粒圆形度均值',\n",
    "                                              '粒色深浅', '毫米/像素比率'])\n",
    "result_dt.to_csv(r'./Data/datacubes/result.csv', encoding='gbk')"
   ]
  }
 ],
 "metadata": {
  "kernelspec": {
   "display_name": "Python 3 (ipykernel)",
   "language": "python",
   "name": "python3"
  },
  "language_info": {
   "codemirror_mode": {
    "name": "ipython",
    "version": 3
   },
   "file_extension": ".py",
   "mimetype": "text/x-python",
   "name": "python",
   "nbconvert_exporter": "python",
   "pygments_lexer": "ipython3",
   "version": "3.8.11"
  }
 },
 "nbformat": 4,
 "nbformat_minor": 5
}
